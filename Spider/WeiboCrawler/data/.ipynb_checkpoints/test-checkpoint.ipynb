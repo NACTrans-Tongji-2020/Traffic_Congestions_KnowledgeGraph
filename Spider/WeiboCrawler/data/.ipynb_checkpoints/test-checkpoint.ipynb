{
 "cells": [
  {
   "cell_type": "code",
   "execution_count": 2,
   "metadata": {},
   "outputs": [],
   "source": [
    "import jieba\n",
    "import pandas as pd"
   ]
  },
  {
   "cell_type": "code",
   "execution_count": 6,
   "metadata": {},
   "outputs": [
    {
     "data": {
      "text/plain": [
       "(333, 15)"
      ]
     },
     "execution_count": 6,
     "metadata": {},
     "output_type": "execute_result"
    }
   ],
   "source": [
    "data = pd.read_csv(\"tweets.csv\", encoding='utf-8')\n",
    "data[data.key_word==\"路况\"].shape"
   ]
  },
  {
   "cell_type": "code",
   "execution_count": null,
   "metadata": {},
   "outputs": [
    {
     "ename": "Error",
     "evalue": "The Jupyter notebook server failed to launch in time",
     "output_type": "error",
     "traceback": [
      "Error: The Jupyter notebook server failed to launch in time",
      "at S.waitForIdleOnSession (c:\\Users\\lujua\\.vscode\\extensions\\ms-python.python-2020.2.64397\\out\\client\\extension.js:1:487499)",
      "at runMicrotasks (<anonymous>)",
      "at runNextTicks (internal/process/task_queues.js:55:5)",
      "at processTimers (internal/timers.js:472:9)"
     ]
    }
   ],
   "source": [
    "db = data[data.key_word==\"路况\"]\n",
    "contents = db.content\n",
    "for str in contents:\n",
    "    seg_list = jieba.cut(str, use_paddle=True)\n",
    "    print(\"Paddle Mode: \" + '/ '.join(seg_list))"
   ]
  }
 ],
 "metadata": {
  "file_extension": ".py",
  "kernelspec": {
   "display_name": "Python 3.7.6 64-bit ('nactrans': conda)",
   "language": "python",
   "name": "python37664bitnactransconda48975dea3345486b9e2b0ee28519f2dc"
  },
  "language_info": {
   "codemirror_mode": {
    "name": "ipython",
    "version": 3
   },
   "name": "python",
   "version": "3.7.6-final"
  },
  "mimetype": "text/x-python",
  "name": "python",
  "npconvert_exporter": "python",
  "pygments_lexer": "ipython3",
  "version": 3
 },
 "nbformat": 4,
 "nbformat_minor": 2
}
